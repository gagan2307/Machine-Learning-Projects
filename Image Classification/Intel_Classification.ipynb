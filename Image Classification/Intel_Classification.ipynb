{
 "cells": [
  {
   "cell_type": "code",
   "execution_count": 58,
   "id": "9bf49bd6-1171-4d08-b0d1-1bbd45238043",
   "metadata": {},
   "outputs": [],
   "source": [
    "import numpy as np\n",
    "import tensorflow as tf\n",
    "from tensorflow.keras.preprocessing.image import ImageDataGenerator\n",
    "from keras.preprocessing import image\n",
    "import matplotlib.pyplot as plt\n",
    "from tensorflow.keras.callbacks import EarlyStopping, ReduceLROnPlateau, ModelCheckpoint\n",
    "from tensorflow.keras.preprocessing import image\n",
    "%matplotlib inline"
   ]
  },
  {
   "cell_type": "code",
   "execution_count": 22,
   "id": "9fe0050e-6cc9-48fe-8710-c077e7e748f4",
   "metadata": {},
   "outputs": [
    {
     "name": "stdout",
     "output_type": "stream",
     "text": [
      "Found 14034 images belonging to 6 classes.\n"
     ]
    }
   ],
   "source": [
    "train_datagen = ImageDataGenerator(rescale = 1./255,\n",
    "                                   shear_range = 0.2,\n",
    "                                   zoom_range = 0.2,\n",
    "                                   horizontal_flip = True)\n",
    "training_set = train_datagen.flow_from_directory('seg_train/seg_train',\n",
    "                                                 target_size = (150,150),\n",
    "                                                 batch_size = 32,\n",
    "                                                 class_mode = 'binary')"
   ]
  },
  {
   "cell_type": "code",
   "execution_count": 23,
   "id": "953eb87f-8007-49c9-813e-02d561627fb0",
   "metadata": {},
   "outputs": [
    {
     "name": "stdout",
     "output_type": "stream",
     "text": [
      "Found 3000 images belonging to 6 classes.\n"
     ]
    }
   ],
   "source": [
    "test_datagen = ImageDataGenerator(rescale = 1./255)\n",
    "test_set = test_datagen.flow_from_directory('seg_test/seg_test',\n",
    "                                            target_size = (150,150),\n",
    "                                            batch_size = 32,\n",
    "                                            class_mode = 'binary')"
   ]
  },
  {
   "cell_type": "code",
   "execution_count": 49,
   "id": "f21001af-1421-4974-8280-fec661e18bcf",
   "metadata": {},
   "outputs": [],
   "source": [
    "model = tf.keras.Sequential([\n",
    "    tf.keras.layers.Conv2D(32, (3, 3), activation='relu', input_shape=(150, 150, 3)), \n",
    "    tf.keras.layers.MaxPooling2D(2, 2),\n",
    "    tf.keras.layers.Conv2D(32, (3, 3), activation='relu'),\n",
    "    tf.keras.layers.MaxPooling2D(2, 2),\n",
    "    tf.keras.layers.Flatten(),\n",
    "    tf.keras.layers.Dense(128, activation=tf.nn.relu),\n",
    "    tf.keras.layers.Dropout(0.5),  \n",
    "    tf.keras.layers.Dense(6, activation=tf.nn.softmax)\n",
    "])"
   ]
  },
  {
   "cell_type": "code",
   "execution_count": 50,
   "id": "04c9dd06-b48b-490a-83da-82987ba5b5cf",
   "metadata": {},
   "outputs": [],
   "source": [
    "model.compile(optimizer = 'adam',\n",
    "              loss = 'sparse_categorical_crossentropy',\n",
    "              metrics=['accuracy'])"
   ]
  },
  {
   "cell_type": "code",
   "execution_count": 52,
   "id": "fdda5728-c680-46c0-bb2d-95e73df425fd",
   "metadata": {},
   "outputs": [
    {
     "name": "stdout",
     "output_type": "stream",
     "text": [
      "Epoch 1/20\n",
      "439/439 [==============================] - ETA: 0s - loss: 1.0964 - accuracy: 0.5760\n",
      "Epoch 1: val_accuracy improved from -inf to 0.69133, saving model to gg.h5\n",
      "439/439 [==============================] - 398s 906ms/step - loss: 1.0964 - accuracy: 0.5760 - val_loss: 0.8434 - val_accuracy: 0.6913 - lr: 0.0010\n",
      "Epoch 2/20\n",
      "439/439 [==============================] - ETA: 0s - loss: 0.8752 - accuracy: 0.6780\n",
      "Epoch 2: val_accuracy improved from 0.69133 to 0.73467, saving model to gg.h5\n",
      "439/439 [==============================] - 325s 740ms/step - loss: 0.8752 - accuracy: 0.6780 - val_loss: 0.7371 - val_accuracy: 0.7347 - lr: 0.0010\n",
      "Epoch 3/20\n",
      "439/439 [==============================] - ETA: 0s - loss: 0.8028 - accuracy: 0.7067\n",
      "Epoch 3: val_accuracy improved from 0.73467 to 0.76067, saving model to gg.h5\n",
      "439/439 [==============================] - 404s 919ms/step - loss: 0.8028 - accuracy: 0.7067 - val_loss: 0.6509 - val_accuracy: 0.7607 - lr: 0.0010\n",
      "Epoch 4/20\n",
      "439/439 [==============================] - ETA: 0s - loss: 0.7277 - accuracy: 0.7366\n",
      "Epoch 4: val_accuracy did not improve from 0.76067\n",
      "439/439 [==============================] - 379s 862ms/step - loss: 0.7277 - accuracy: 0.7366 - val_loss: 0.7757 - val_accuracy: 0.7310 - lr: 0.0010\n",
      "Epoch 5/20\n",
      "439/439 [==============================] - ETA: 0s - loss: 0.6875 - accuracy: 0.7512\n",
      "Epoch 5: val_accuracy improved from 0.76067 to 0.77000, saving model to gg.h5\n",
      "439/439 [==============================] - 274s 623ms/step - loss: 0.6875 - accuracy: 0.7512 - val_loss: 0.6341 - val_accuracy: 0.7700 - lr: 0.0010\n",
      "Epoch 6/20\n",
      "439/439 [==============================] - ETA: 0s - loss: 0.6555 - accuracy: 0.7692\n",
      "Epoch 6: val_accuracy improved from 0.77000 to 0.79233, saving model to gg.h5\n",
      "439/439 [==============================] - 274s 623ms/step - loss: 0.6555 - accuracy: 0.7692 - val_loss: 0.5992 - val_accuracy: 0.7923 - lr: 0.0010\n",
      "Epoch 7/20\n",
      "439/439 [==============================] - ETA: 0s - loss: 0.6183 - accuracy: 0.7827\n",
      "Epoch 7: val_accuracy improved from 0.79233 to 0.79300, saving model to gg.h5\n",
      "439/439 [==============================] - 272s 620ms/step - loss: 0.6183 - accuracy: 0.7827 - val_loss: 0.6201 - val_accuracy: 0.7930 - lr: 0.0010\n",
      "Epoch 8/20\n",
      "439/439 [==============================] - ETA: 0s - loss: 0.5827 - accuracy: 0.7922\n",
      "Epoch 8: val_accuracy improved from 0.79300 to 0.81000, saving model to gg.h5\n",
      "439/439 [==============================] - 273s 621ms/step - loss: 0.5827 - accuracy: 0.7922 - val_loss: 0.5273 - val_accuracy: 0.8100 - lr: 0.0010\n",
      "Epoch 9/20\n",
      "439/439 [==============================] - ETA: 0s - loss: 0.5726 - accuracy: 0.7977\n",
      "Epoch 9: val_accuracy improved from 0.81000 to 0.81933, saving model to gg.h5\n",
      "439/439 [==============================] - 271s 617ms/step - loss: 0.5726 - accuracy: 0.7977 - val_loss: 0.5287 - val_accuracy: 0.8193 - lr: 0.0010\n",
      "Epoch 10/20\n",
      "439/439 [==============================] - ETA: 0s - loss: 0.5480 - accuracy: 0.8058\n",
      "Epoch 10: val_accuracy improved from 0.81933 to 0.83833, saving model to gg.h5\n",
      "439/439 [==============================] - 269s 613ms/step - loss: 0.5480 - accuracy: 0.8058 - val_loss: 0.4844 - val_accuracy: 0.8383 - lr: 0.0010\n",
      "Epoch 11/20\n",
      "439/439 [==============================] - ETA: 0s - loss: 0.5233 - accuracy: 0.8147\n",
      "Epoch 11: val_accuracy improved from 0.83833 to 0.84500, saving model to gg.h5\n",
      "439/439 [==============================] - 269s 613ms/step - loss: 0.5233 - accuracy: 0.8147 - val_loss: 0.4850 - val_accuracy: 0.8450 - lr: 0.0010\n",
      "Epoch 12/20\n",
      "439/439 [==============================] - ETA: 0s - loss: 0.5162 - accuracy: 0.8169\n",
      "Epoch 12: val_accuracy did not improve from 0.84500\n",
      "439/439 [==============================] - 270s 615ms/step - loss: 0.5162 - accuracy: 0.8169 - val_loss: 0.5198 - val_accuracy: 0.8260 - lr: 0.0010\n",
      "Epoch 13/20\n",
      "439/439 [==============================] - ETA: 0s - loss: 0.5041 - accuracy: 0.8194\n",
      "Epoch 13: val_accuracy did not improve from 0.84500\n",
      "439/439 [==============================] - 270s 615ms/step - loss: 0.5041 - accuracy: 0.8194 - val_loss: 0.5030 - val_accuracy: 0.8343 - lr: 0.0010\n",
      "Epoch 14/20\n",
      "439/439 [==============================] - ETA: 0s - loss: 0.4863 - accuracy: 0.8275\n",
      "Epoch 14: val_accuracy did not improve from 0.84500\n",
      "439/439 [==============================] - 273s 621ms/step - loss: 0.4863 - accuracy: 0.8275 - val_loss: 0.5109 - val_accuracy: 0.8323 - lr: 0.0010\n",
      "Epoch 15/20\n",
      "439/439 [==============================] - ETA: 0s - loss: 0.4810 - accuracy: 0.8281\n",
      "Epoch 15: val_accuracy improved from 0.84500 to 0.85467, saving model to gg.h5\n",
      "439/439 [==============================] - 269s 614ms/step - loss: 0.4810 - accuracy: 0.8281 - val_loss: 0.4549 - val_accuracy: 0.8547 - lr: 0.0010\n",
      "Epoch 16/20\n",
      "439/439 [==============================] - ETA: 0s - loss: 0.4675 - accuracy: 0.8336\n",
      "Epoch 16: val_accuracy did not improve from 0.85467\n",
      "439/439 [==============================] - 270s 616ms/step - loss: 0.4675 - accuracy: 0.8336 - val_loss: 0.4636 - val_accuracy: 0.8497 - lr: 0.0010\n",
      "Epoch 17/20\n",
      "439/439 [==============================] - ETA: 0s - loss: 0.4528 - accuracy: 0.8373\n",
      "Epoch 17: val_accuracy did not improve from 0.85467\n",
      "439/439 [==============================] - 270s 615ms/step - loss: 0.4528 - accuracy: 0.8373 - val_loss: 0.5019 - val_accuracy: 0.8390 - lr: 0.0010\n",
      "Epoch 18/20\n",
      "439/439 [==============================] - ETA: 0s - loss: 0.4473 - accuracy: 0.8405\n",
      "Epoch 18: val_accuracy did not improve from 0.85467\n",
      "439/439 [==============================] - 270s 614ms/step - loss: 0.4473 - accuracy: 0.8405 - val_loss: 0.4838 - val_accuracy: 0.8390 - lr: 0.0010\n",
      "Epoch 19/20\n",
      "439/439 [==============================] - ETA: 0s - loss: 0.4399 - accuracy: 0.8424\n",
      "Epoch 19: val_accuracy improved from 0.85467 to 0.85667, saving model to gg.h5\n",
      "439/439 [==============================] - 275s 626ms/step - loss: 0.4399 - accuracy: 0.8424 - val_loss: 0.4419 - val_accuracy: 0.8567 - lr: 0.0010\n",
      "Epoch 20/20\n",
      "439/439 [==============================] - ETA: 0s - loss: 0.4279 - accuracy: 0.8497\n",
      "Epoch 20: val_accuracy did not improve from 0.85667\n",
      "439/439 [==============================] - 370s 842ms/step - loss: 0.4279 - accuracy: 0.8497 - val_loss: 0.4828 - val_accuracy: 0.8433 - lr: 0.0010\n"
     ]
    }
   ],
   "source": [
    "# early_stopping = EarlyStopping(monitor='val_loss', patience=3, restore_best_weights=True)\n",
    "es = EarlyStopping(monitor='val_accuracy',mode='max',patience=20,verbose=1,restore_best_weights=True)\n",
    "rl = ReduceLROnPlateau(monitor='val_accuracy',mode='max',patience=20,factor=0.1,min_lr=1e-3,verbose=1)\n",
    "mc = ModelCheckpoint('gg.h5',monitor='val_accuracy',mode='max',verbose=1,save_best_only=True)\n",
    "history = model.fit(x=training_set, \n",
    "                    validation_data=test_set,\n",
    "                    batch_size=128,\n",
    "                    epochs=20,\n",
    "                    callbacks=[es,mc,rl])"
   ]
  },
  {
   "cell_type": "code",
   "execution_count": 53,
   "id": "b0523dc0-d881-4916-b02d-1966804e0634",
   "metadata": {},
   "outputs": [
    {
     "data": {
      "image/png": "[encoded data removed]",
      "text/plain": [
       "<Figure size 640x480 with 1 Axes>"
      ]
     },
     "metadata": {},
     "output_type": "display_data"
    }
   ],
   "source": [
    "plt.plot(history.history['loss'],'r',label='train loss')\n",
    "plt.plot(history.history['val_loss'],'b',label='validation loss')\n",
    "plt.xlabel('No. of Epochs')\n",
    "plt.ylabel('Loss')\n",
    "plt.title('Loss Graph')\n",
    "plt.legend();"
   ]
  },
  {
   "cell_type": "code",
   "execution_count": 64,
   "id": "80800a46-4f6b-480f-8537-be211353a71f",
   "metadata": {},
   "outputs": [],
   "source": [
    "class_names = ['buildings', 'forest', 'glacier', 'mountain', 'sea', 'street']"
   ]
  },
  {
   "cell_type": "code",
   "execution_count": 66,
   "id": "48c99efb-66c1-4209-b4c7-220ad2b0bb85",
   "metadata": {},
   "outputs": [],
   "source": [
    "def preprocess_image(img_path):\n",
    "    img = tf.keras.preprocessing.image.load_img(img_path, target_size=(150, 150))  # Adjust target size to match your model's input size\n",
    "    img_array = tf.keras.preprocessing.image.img_to_array(img)\n",
    "    img_array = np.expand_dims(img_array, axis=0)  # Add batch dimension\n",
    "    img_array /= 255.0  # Normalize to [0, 1] range\n",
    "    return img_array"
   ]
  },
  {
   "cell_type": "code",
   "execution_count": 68,
   "id": "da00452b-0950-4709-aef5-feabd93494bf",
   "metadata": {},
   "outputs": [],
   "source": [
    "def make_prediction(img_path):\n",
    "    img_array = preprocess_image(img_path)\n",
    "    predictions = model.predict(img_array)\n",
    "    predicted_class = np.argmax(predictions, axis=1)  # Assuming sparse categorical output\n",
    "    predicted_class_name = class_names[predicted_class[0]]  # Get the class name\n",
    "    return predicted_class_name, predictions"
   ]
  },
  {
   "cell_type": "code",
   "execution_count": 72,
   "id": "b4ab4adb-e892-455e-9f0b-53496142ae63",
   "metadata": {},
   "outputs": [
    {
     "name": "stdout",
     "output_type": "stream",
     "text": [
      "1/1 [==============================] - 0s 54ms/step\n"
     ]
    }
   ],
   "source": [
    "img_path = 'seg_test/seg_test/mountain/20282.jpg'  # Replace with the path to your image\n",
    "# Or using raw string literal\n",
    "# img_path = r'seg_test\\seg_test\\forest\\20299.jpg'\n",
    "predicted_class_name, predictions = make_prediction(img_path)"
   ]
  },
  {
   "cell_type": "code",
   "execution_count": 73,
   "id": "ed991bb8-4be6-4884-b6b6-09466aa544c5",
   "metadata": {},
   "outputs": [
    {
     "name": "stdout",
     "output_type": "stream",
     "text": [
      "Predicted class: mountain\n"
     ]
    }
   ],
   "source": [
    "print(f\"Predicted class: {predicted_class_name}\")"
   ]
  },
  {
   "cell_type": "code",
   "execution_count": 74,
   "id": "ea691153-f296-4365-9ee8-bc9fcf419613",
   "metadata": {},
   "outputs": [],
   "source": [
    "import joblib\n",
    "model.save('modelcn.h5')"
   ]
  },
  {
   "cell_type": "code",
   "execution_count": 75,
   "id": "ede30bdc-8ded-40be-a526-a73d73be2b2f",
   "metadata": {},
   "outputs": [
    {
     "data": {
      "text/plain": [
       "['additional_data.pkl']"
      ]
     },
     "execution_count": 75,
     "metadata": {},
     "output_type": "execute_result"
    }
   ],
   "source": [
    "additional_data = {'class_names': ['buildings', 'forest', 'glacier', 'mountain', 'sea', 'street']}\n",
    "joblib.dump(additional_data, 'additional_data.pkl')"
   ]
  },
  {
   "cell_type": "code",
   "execution_count": null,
   "id": "5f8bcc0d-09fd-45dc-aa9d-1d1847497f76",
   "metadata": {},
   "outputs": [],
   "source": []
  }
 ],
 "metadata": {
  "kernelspec": {
   "display_name": "Python 3 (ipykernel)",
   "language": "python",
   "name": "python3"
  },
  "language_info": {
   "codemirror_mode": {
    "name": "ipython",
    "version": 3
   },
   "file_extension": ".py",
   "mimetype": "text/x-python",
   "name": "python",
   "nbconvert_exporter": "python",
   "pygments_lexer": "ipython3",
   "version": "3.10.0"
  }
 },
 "nbformat": 4,
 "nbformat_minor": 5
}
